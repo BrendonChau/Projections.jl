{
 "cells": [
  {
   "cell_type": "markdown",
   "metadata": {},
   "source": [
    "# Projections.jl\n",
    "\n",
    "Projections.jl is a Julia package that collects commonly used projection operators. It is useful for optimization algorithms such as projected gradient descent.\n",
    "\n",
    "Given a point $y \\in \\mathbb{R}^n$ and a set $S \\subset \\mathbb{R}^n$, the projection of $y$ onto $S$ is defined as\n",
    "$$\n",
    "    \\text{proj}_S(y) = \\arg \\min_{x \\in S} \\|y - x\\|_2^2.\n",
    "$$\n",
    "If $S$ is a closed convex set, then $\\text{proj}_S(y)$ is unique."
   ]
  },
  {
   "cell_type": "markdown",
   "metadata": {},
   "source": [
    "## Installation\n",
    "\n",
    "This package requires Julia v0.7 or later. The package has not yet been registered and must be installed using the repository location. Start julia and use the ] key to switch to the package manager REPL\n",
    "```julia\n",
    "(v1.0) pkg> add https://github.com/Hua-Zhou/Projections.jl.git\n",
    "```"
   ]
  },
  {
   "cell_type": "markdown",
   "metadata": {},
   "source": [
    "Machine information for this tutorial"
   ]
  },
  {
   "cell_type": "code",
   "execution_count": 1,
   "metadata": {},
   "outputs": [
    {
     "name": "stdout",
     "output_type": "stream",
     "text": [
      "Julia Version 1.0.3\n",
      "Commit 099e826241 (2018-12-18 01:34 UTC)\n",
      "Platform Info:\n",
      "  OS: macOS (x86_64-apple-darwin14.5.0)\n",
      "  CPU: Intel(R) Core(TM) i7-6920HQ CPU @ 2.90GHz\n",
      "  WORD_SIZE: 64\n",
      "  LIBM: libopenlibm\n",
      "  LLVM: libLLVM-6.0.0 (ORCJIT, skylake)\n",
      "Environment:\n",
      "  JULIA_EDITOR = code\n"
     ]
    }
   ],
   "source": [
    "versioninfo()"
   ]
  },
  {
   "cell_type": "markdown",
   "metadata": {},
   "source": [
    "## Basic usage\n",
    "\n",
    "This package provides two functions for a set $s$,\n",
    "```julia\n",
    "project!(s, v, y)\n",
    "```\n",
    "overwrites `v` by projection of `y` to set `s`. \n",
    "```julia\n",
    "project(s, y)\n",
    "```\n",
    "simply returns projection of `y` to set `s`."
   ]
  },
  {
   "cell_type": "markdown",
   "metadata": {},
   "source": [
    "## Projection operators"
   ]
  },
  {
   "cell_type": "code",
   "execution_count": 2,
   "metadata": {},
   "outputs": [],
   "source": [
    "using Projections"
   ]
  },
  {
   "cell_type": "markdown",
   "metadata": {},
   "source": [
    "### Box\n",
    "\n",
    "Projection of $y$ onto a closed box $S = [a_1, b_1] \\times \\cdots \\times [a_n, b_n]$ is\n",
    "$$\n",
    "    \\text{proj}_S(y)_i = \\begin{cases}\n",
    "    a_i & y_i < a_i \\\\\n",
    "    y_i & y_i \\in [a_i, b_i] \\\\\n",
    "    b_i & y_i > b_i\n",
    "    \\end{cases}.\n",
    "$$"
   ]
  },
  {
   "cell_type": "code",
   "execution_count": 3,
   "metadata": {},
   "outputs": [
    {
     "data": {
      "text/plain": [
       "7-element Array{Float64,1}:\n",
       " -1.0\n",
       " -1.0\n",
       " -0.5\n",
       "  0.0\n",
       "  0.5\n",
       "  1.0\n",
       "  1.0"
      ]
     },
     "execution_count": 3,
     "metadata": {},
     "output_type": "execute_result"
    }
   ],
   "source": [
    "y = [-2.5, -1.5, -0.5, 0.0, 0.5, 1.5, 2.5]\n",
    "a = fill(-1.0, 7) # vector of all -1\n",
    "b = fill( 1.0, 7) # vector of all  1\n",
    "project(Box(a, b), y)"
   ]
  },
  {
   "cell_type": "markdown",
   "metadata": {},
   "source": [
    "## Contributing\n",
    "\n",
    "You are welcome to contribute to the Projections.jl package. To add a projection operator, e.g., projection to the affine set, to the package, follow these steps:\n",
    "\n",
    "0. Fork the Projections.jl package.  \n",
    "0. Add `affine.jl` to the `src` folder that implements the type `Affine`, the function `project!(s::Affine, v, y)`, and the function `project(s, y)`. \n",
    "0. Add a line `include(\"affine.jl\")` to the `/src/Projections.jl` file.\n",
    "0. Add test file `affine_test.jl` to the `test` folder.\n",
    "0. Add a line `include(\"affine_test.jl\")` to the `/test/runtests.jl` file.  \n",
    "0. Make sure that `Pkg.test(\"Projections\")` successfully runs.\n",
    "0. Add documentation for the new projection operator to the `Projection operators` section of Jupyter notebook `/docs/Projections.jl`. \n",
    "0. Issue a pull request."
   ]
  }
 ],
 "metadata": {
  "kernelspec": {
   "display_name": "Julia 1.0.3",
   "language": "julia",
   "name": "julia-1.0"
  },
  "language_info": {
   "file_extension": ".jl",
   "mimetype": "application/julia",
   "name": "julia",
   "version": "1.0.3"
  },
  "toc": {
   "colors": {
    "hover_highlight": "#DAA520",
    "running_highlight": "#FF0000",
    "selected_highlight": "#FFD700"
   },
   "moveMenuLeft": true,
   "nav_menu": {
    "height": "120px",
    "width": "252px"
   },
   "navigate_menu": true,
   "number_sections": true,
   "sideBar": true,
   "threshold": 4,
   "toc_cell": false,
   "toc_section_display": "block",
   "toc_window_display": false,
   "widenNotebook": false
  }
 },
 "nbformat": 4,
 "nbformat_minor": 2
}
